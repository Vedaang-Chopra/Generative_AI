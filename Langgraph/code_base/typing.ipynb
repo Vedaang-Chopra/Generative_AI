{
 "cells": [
  {
   "cell_type": "markdown",
   "metadata": {},
   "source": [
    "#### TypedDict"
   ]
  },
  {
   "cell_type": "code",
   "execution_count": null,
   "metadata": {},
   "outputs": [],
   "source": [
    "'''\n",
    "\n",
    "Langgraph uses data classes, typeddict or pydantic classes to define the state of the system.\n",
    "\n",
    "Typeddict -> It is basically a method to define data type in python.\n",
    "TypedDict improves type safety when working with heterogeneous dictionaries (such as those representing JSON data).\n",
    "\n",
    "1. Purpose and Motivation\n",
    "Structured Dictionaries:\n",
    "In many programs (e.g. when handling JSON), dictionaries are used to represent structured data. However, plain dictionaries (with type Dict[str, Any]) don’t let you specify which keys are expected or what types their values should be.\n",
    "\n",
    "Static Type Checking:\n",
    "TypedDict allows static type checkers (like mypy) to verify that you’re using dictionaries correctly—catching typos or type mismatches at development time rather than at runtime.\n",
    "\n",
    "'''"
   ]
  },
  {
   "cell_type": "code",
   "execution_count": null,
   "metadata": {},
   "outputs": [],
   "source": [
    "from typing import TypedDict\n",
    "\n",
    "# Class Definition\n",
    "class Movie(TypedDict):\n",
    "    name: str\n",
    "    year: int\n",
    "\n",
    "\n",
    "# Functional Definition\n",
    "Game = TypedDict('Game', {'name': str, 'year': int}, total=True)"
   ]
  },
  {
   "cell_type": "code",
   "execution_count": null,
   "metadata": {},
   "outputs": [
    {
     "data": {
      "text/plain": [
       "{'name': 'Inception', 'year': 2010}"
      ]
     },
     "metadata": {},
     "output_type": "display_data"
    }
   ],
   "source": [
    "movie_1: Movie = {\"name\": \"Inception\", \"year\": 2010}\n",
    "movie_1"
   ]
  },
  {
   "cell_type": "code",
   "execution_count": null,
   "metadata": {},
   "outputs": [
    {
     "data": {
      "text/plain": [
       "'2014'"
      ]
     },
     "metadata": {},
     "output_type": "display_data"
    }
   ],
   "source": [
    "movie_2: Movie = {\"name\": \"Prestige\", \"year\": \"2014\"}\n",
    "movie_2['year']"
   ]
  },
  {
   "cell_type": "code",
   "execution_count": null,
   "metadata": {},
   "outputs": [
    {
     "data": {
      "text/plain": [
       "{'name': 'Spiderman'}"
      ]
     },
     "metadata": {},
     "output_type": "display_data"
    }
   ],
   "source": [
    "# By default, all keys declared in a TypedDict are required\n",
    "movie_3: Game = {\"name\": \"Spiderman\"}\n",
    "movie_3"
   ]
  },
  {
   "cell_type": "code",
   "execution_count": null,
   "metadata": {},
   "outputs": [
    {
     "name": "stdout",
     "output_type": "stream",
     "text": [
      "8\n"
     ]
    }
   ],
   "source": [
    "def add(x: int, y: int) -> int:\n",
    " \"\"\"Adds two numbers together.\n",
    "Args:\n",
    " x: The first number.\n",
    " y: The second number.\n",
    "Returns:\n",
    " The sum of x and y.\n",
    " \"\"\"\n",
    " return x + y\n",
    "\n",
    "result = add(5, 3)\n",
    "print(result)  # Output: 8"
   ]
  },
  {
   "cell_type": "code",
   "execution_count": null,
   "metadata": {},
   "outputs": [
    {
     "data": {
      "text/plain": [
       "8.14"
      ]
     },
     "metadata": {},
     "output_type": "display_data"
    }
   ],
   "source": [
    "# This will raise a TypeError because 3.14 is not an integer\n",
    "result = add(5, 3.14)\n",
    "result"
   ]
  },
  {
   "cell_type": "code",
   "execution_count": null,
   "metadata": {},
   "outputs": [
    {
     "ename": "TypeError",
     "evalue": "can only concatenate str (not \"int\") to str",
     "output_type": "error",
     "traceback": [
      "\u001b[0;31m---------------------------------------------------------------------------\u001b[0m\n",
      "\u001b[0;31mTypeError\u001b[0m                                 Traceback (most recent call last)\n",
      "Cell \u001b[0;32mIn[21], line 2\u001b[0m\n",
      "\u001b[1;32m      1\u001b[0m \u001b[38;5;66;03m# This will also raise a TypeError because \"hello\" is not a number\u001b[39;00m\n",
      "\u001b[0;32m----> 2\u001b[0m result \u001b[38;5;241m=\u001b[39m \u001b[43madd\u001b[49m\u001b[43m(\u001b[49m\u001b[38;5;124;43m\"\u001b[39;49m\u001b[38;5;124;43mhello\u001b[39;49m\u001b[38;5;124;43m\"\u001b[39;49m\u001b[43m,\u001b[49m\u001b[43m \u001b[49m\u001b[38;5;241;43m3\u001b[39;49m\u001b[43m)\u001b[49m\n",
      "\n",
      "Cell \u001b[0;32mIn[18], line 9\u001b[0m, in \u001b[0;36madd\u001b[0;34m(x, y)\u001b[0m\n",
      "\u001b[1;32m      1\u001b[0m \u001b[38;5;28;01mdef\u001b[39;00m\u001b[38;5;250m \u001b[39m\u001b[38;5;21madd\u001b[39m(x: \u001b[38;5;28mint\u001b[39m, y: \u001b[38;5;28mint\u001b[39m) \u001b[38;5;241m-\u001b[39m\u001b[38;5;241m>\u001b[39m \u001b[38;5;28mint\u001b[39m:\n",
      "\u001b[1;32m      2\u001b[0m \u001b[38;5;250m \u001b[39m\u001b[38;5;124;03m\"\"\"Adds two numbers together.\u001b[39;00m\n",
      "\u001b[1;32m      3\u001b[0m \u001b[38;5;124;03mArgs:\u001b[39;00m\n",
      "\u001b[1;32m      4\u001b[0m \u001b[38;5;124;03m x: The first number.\u001b[39;00m\n",
      "\u001b[0;32m   (...)\u001b[0m\n",
      "\u001b[1;32m      7\u001b[0m \u001b[38;5;124;03m The sum of x and y.\u001b[39;00m\n",
      "\u001b[1;32m      8\u001b[0m \u001b[38;5;124;03m \"\"\"\u001b[39;00m\n",
      "\u001b[0;32m----> 9\u001b[0m  \u001b[38;5;28;01mreturn\u001b[39;00m \u001b[43mx\u001b[49m\u001b[43m \u001b[49m\u001b[38;5;241;43m+\u001b[39;49m\u001b[43m \u001b[49m\u001b[43my\u001b[49m\n",
      "\n",
      "\u001b[0;31mTypeError\u001b[0m: can only concatenate str (not \"int\") to str"
     ]
    }
   ],
   "source": [
    "# This will also raise a TypeError because \"hello\" is not a number\n",
    "result = add(\"hello\", 3)"
   ]
  }
 ],
 "metadata": {
  "language_info": {
   "name": "python"
  }
 },
 "nbformat": 4,
 "nbformat_minor": 2
}
